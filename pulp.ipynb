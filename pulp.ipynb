{
 "cells": [
  {
   "cell_type": "code",
   "execution_count": 49,
   "metadata": {},
   "outputs": [
    {
     "name": "stdout",
     "output_type": "stream",
     "text": [
      "Requirement already satisfied: pulp in c:\\users\\ggil\\appdata\\local\\continuum\\anaconda3\\lib\\site-packages (2.0)\n",
      "Requirement already satisfied: pyparsing>=2.0.1 in c:\\users\\ggil\\appdata\\local\\continuum\\anaconda3\\lib\\site-packages (from pulp) (2.4.0)\n",
      "Note: you may need to restart the kernel to use updated packages.\n"
     ]
    }
   ],
   "source": [
    "pip install pulp"
   ]
  },
  {
   "cell_type": "markdown",
   "metadata": {},
   "source": [
    "## PuLP: Esta librería nos proporciona un lenguaje para modelar y resolver problemas de optimización utilizando programación lineal."
   ]
  },
  {
   "cell_type": "code",
   "execution_count": 40,
   "metadata": {},
   "outputs": [],
   "source": [
    "import pulp as pulp\n",
    "import numpy as np\n",
    "import pandas as pd\n",
    "import random"
   ]
  },
  {
   "cell_type": "markdown",
   "metadata": {},
   "source": [
    "El Dataset es del Departamento de Comercio del Gobierno de la India"
   ]
  },
  {
   "cell_type": "code",
   "execution_count": 43,
   "metadata": {},
   "outputs": [
    {
     "data": {
      "text/html": [
       "<div>\n",
       "<style scoped>\n",
       "    .dataframe tbody tr th:only-of-type {\n",
       "        vertical-align: middle;\n",
       "    }\n",
       "\n",
       "    .dataframe tbody tr th {\n",
       "        vertical-align: top;\n",
       "    }\n",
       "\n",
       "    .dataframe thead th {\n",
       "        text-align: right;\n",
       "    }\n",
       "</style>\n",
       "<table border=\"1\" class=\"dataframe\">\n",
       "  <thead>\n",
       "    <tr style=\"text-align: right;\">\n",
       "      <th></th>\n",
       "      <th>HSCode</th>\n",
       "      <th>Commodity</th>\n",
       "      <th>value</th>\n",
       "      <th>country</th>\n",
       "      <th>year</th>\n",
       "    </tr>\n",
       "  </thead>\n",
       "  <tbody>\n",
       "    <tr>\n",
       "      <th>0</th>\n",
       "      <td>2</td>\n",
       "      <td>MEAT AND EDIBLE MEAT OFFAL.</td>\n",
       "      <td>0.18</td>\n",
       "      <td>AFGHANISTAN TIS</td>\n",
       "      <td>2018</td>\n",
       "    </tr>\n",
       "    <tr>\n",
       "      <th>1</th>\n",
       "      <td>3</td>\n",
       "      <td>FISH AND CRUSTACEANS, MOLLUSCS AND OTHER AQUAT...</td>\n",
       "      <td>0.00</td>\n",
       "      <td>AFGHANISTAN TIS</td>\n",
       "      <td>2018</td>\n",
       "    </tr>\n",
       "    <tr>\n",
       "      <th>2</th>\n",
       "      <td>4</td>\n",
       "      <td>DAIRY PRODUCE; BIRDS' EGGS; NATURAL HONEY; EDI...</td>\n",
       "      <td>12.48</td>\n",
       "      <td>AFGHANISTAN TIS</td>\n",
       "      <td>2018</td>\n",
       "    </tr>\n",
       "  </tbody>\n",
       "</table>\n",
       "</div>"
      ],
      "text/plain": [
       "   HSCode                                          Commodity  value  \\\n",
       "0       2                        MEAT AND EDIBLE MEAT OFFAL.   0.18   \n",
       "1       3  FISH AND CRUSTACEANS, MOLLUSCS AND OTHER AQUAT...   0.00   \n",
       "2       4  DAIRY PRODUCE; BIRDS' EGGS; NATURAL HONEY; EDI...  12.48   \n",
       "\n",
       "           country  year  \n",
       "0  AFGHANISTAN TIS  2018  \n",
       "1  AFGHANISTAN TIS  2018  \n",
       "2  AFGHANISTAN TIS  2018  "
      ]
     },
     "execution_count": 43,
     "metadata": {},
     "output_type": "execute_result"
    }
   ],
   "source": [
    "export_df = pd.read_csv('2018-2010_export.csv')\n",
    "export_df.head(3)"
   ]
  },
  {
   "cell_type": "markdown",
   "metadata": {},
   "source": [
    "Se realizara solo para un tipo de producto y para la gestion 2018[1]"
   ]
  },
  {
   "cell_type": "code",
   "execution_count": 44,
   "metadata": {},
   "outputs": [
    {
     "data": {
      "text/html": [
       "<div>\n",
       "<style scoped>\n",
       "    .dataframe tbody tr th:only-of-type {\n",
       "        vertical-align: middle;\n",
       "    }\n",
       "\n",
       "    .dataframe tbody tr th {\n",
       "        vertical-align: top;\n",
       "    }\n",
       "\n",
       "    .dataframe thead th {\n",
       "        text-align: right;\n",
       "    }\n",
       "</style>\n",
       "<table border=\"1\" class=\"dataframe\">\n",
       "  <thead>\n",
       "    <tr style=\"text-align: right;\">\n",
       "      <th></th>\n",
       "      <th>HSCode</th>\n",
       "      <th>Commodity</th>\n",
       "      <th>value</th>\n",
       "      <th>country</th>\n",
       "      <th>year</th>\n",
       "    </tr>\n",
       "  </thead>\n",
       "  <tbody>\n",
       "    <tr>\n",
       "      <th>0</th>\n",
       "      <td>2</td>\n",
       "      <td>MEAT AND EDIBLE MEAT OFFAL.</td>\n",
       "      <td>0.18</td>\n",
       "      <td>AFGHANISTAN TIS</td>\n",
       "      <td>2018</td>\n",
       "    </tr>\n",
       "    <tr>\n",
       "      <th>1</th>\n",
       "      <td>2</td>\n",
       "      <td>MEAT AND EDIBLE MEAT OFFAL.</td>\n",
       "      <td>50.75</td>\n",
       "      <td>ALGERIA</td>\n",
       "      <td>2018</td>\n",
       "    </tr>\n",
       "    <tr>\n",
       "      <th>2</th>\n",
       "      <td>2</td>\n",
       "      <td>MEAT AND EDIBLE MEAT OFFAL.</td>\n",
       "      <td>27.31</td>\n",
       "      <td>ANGOLA</td>\n",
       "      <td>2018</td>\n",
       "    </tr>\n",
       "    <tr>\n",
       "      <th>3</th>\n",
       "      <td>2</td>\n",
       "      <td>MEAT AND EDIBLE MEAT OFFAL.</td>\n",
       "      <td>2.28</td>\n",
       "      <td>ARMENIA</td>\n",
       "      <td>2018</td>\n",
       "    </tr>\n",
       "    <tr>\n",
       "      <th>4</th>\n",
       "      <td>2</td>\n",
       "      <td>MEAT AND EDIBLE MEAT OFFAL.</td>\n",
       "      <td>0.51</td>\n",
       "      <td>AZERBAIJAN</td>\n",
       "      <td>2018</td>\n",
       "    </tr>\n",
       "    <tr>\n",
       "      <th>5</th>\n",
       "      <td>2</td>\n",
       "      <td>MEAT AND EDIBLE MEAT OFFAL.</td>\n",
       "      <td>NaN</td>\n",
       "      <td>BAHAMAS</td>\n",
       "      <td>2018</td>\n",
       "    </tr>\n",
       "    <tr>\n",
       "      <th>6</th>\n",
       "      <td>2</td>\n",
       "      <td>MEAT AND EDIBLE MEAT OFFAL.</td>\n",
       "      <td>24.68</td>\n",
       "      <td>BAHARAIN IS</td>\n",
       "      <td>2018</td>\n",
       "    </tr>\n",
       "    <tr>\n",
       "      <th>7</th>\n",
       "      <td>2</td>\n",
       "      <td>MEAT AND EDIBLE MEAT OFFAL.</td>\n",
       "      <td>9.06</td>\n",
       "      <td>BANGLADESH PR</td>\n",
       "      <td>2018</td>\n",
       "    </tr>\n",
       "    <tr>\n",
       "      <th>8</th>\n",
       "      <td>2</td>\n",
       "      <td>MEAT AND EDIBLE MEAT OFFAL.</td>\n",
       "      <td>0.08</td>\n",
       "      <td>BENIN</td>\n",
       "      <td>2018</td>\n",
       "    </tr>\n",
       "    <tr>\n",
       "      <th>9</th>\n",
       "      <td>2</td>\n",
       "      <td>MEAT AND EDIBLE MEAT OFFAL.</td>\n",
       "      <td>5.09</td>\n",
       "      <td>BHUTAN</td>\n",
       "      <td>2018</td>\n",
       "    </tr>\n",
       "    <tr>\n",
       "      <th>10</th>\n",
       "      <td>2</td>\n",
       "      <td>MEAT AND EDIBLE MEAT OFFAL.</td>\n",
       "      <td>0.00</td>\n",
       "      <td>BOTSWANA</td>\n",
       "      <td>2018</td>\n",
       "    </tr>\n",
       "    <tr>\n",
       "      <th>11</th>\n",
       "      <td>2</td>\n",
       "      <td>MEAT AND EDIBLE MEAT OFFAL.</td>\n",
       "      <td>0.00</td>\n",
       "      <td>BRAZIL</td>\n",
       "      <td>2018</td>\n",
       "    </tr>\n",
       "  </tbody>\n",
       "</table>\n",
       "</div>"
      ],
      "text/plain": [
       "    HSCode                    Commodity  value          country  year\n",
       "0        2  MEAT AND EDIBLE MEAT OFFAL.   0.18  AFGHANISTAN TIS  2018\n",
       "1        2  MEAT AND EDIBLE MEAT OFFAL.  50.75          ALGERIA  2018\n",
       "2        2  MEAT AND EDIBLE MEAT OFFAL.  27.31           ANGOLA  2018\n",
       "3        2  MEAT AND EDIBLE MEAT OFFAL.   2.28          ARMENIA  2018\n",
       "4        2  MEAT AND EDIBLE MEAT OFFAL.   0.51       AZERBAIJAN  2018\n",
       "5        2  MEAT AND EDIBLE MEAT OFFAL.    NaN          BAHAMAS  2018\n",
       "6        2  MEAT AND EDIBLE MEAT OFFAL.  24.68      BAHARAIN IS  2018\n",
       "7        2  MEAT AND EDIBLE MEAT OFFAL.   9.06    BANGLADESH PR  2018\n",
       "8        2  MEAT AND EDIBLE MEAT OFFAL.   0.08            BENIN  2018\n",
       "9        2  MEAT AND EDIBLE MEAT OFFAL.   5.09           BHUTAN  2018\n",
       "10       2  MEAT AND EDIBLE MEAT OFFAL.   0.00         BOTSWANA  2018\n",
       "11       2  MEAT AND EDIBLE MEAT OFFAL.   0.00           BRAZIL  2018"
      ]
     },
     "execution_count": 44,
     "metadata": {},
     "output_type": "execute_result"
    }
   ],
   "source": [
    "p2_df = pd.read_csv('export_2.csv')\n",
    "p2_df.head(12)"
   ]
  },
  {
   "cell_type": "code",
   "execution_count": 45,
   "metadata": {},
   "outputs": [],
   "source": [
    "\n",
    "# Ejemplo del problema de transporte de las cervezas utilizando PuLP\n",
    "# Creamos la variable prob que contiene los datos del problema\n",
    "prob = pulp.LpProblem(\"Problema de exportacion de la India del producto 2\", pulp.LpMinimize)"
   ]
  },
  {
   "cell_type": "code",
   "execution_count": 47,
   "metadata": {},
   "outputs": [],
   "source": [
    "cervecerias = [\"Producto_2\"]\n",
    "\n",
    "# diccionario con la capacidad de oferta de cada cerveceria\n",
    "oferta = {\"Producto_2\": 1800}\n",
    "\n",
    "# Creamos la lista de los bares o nodos de demanda\n",
    "bares = [\"AFGHANISTAN TIS\",\n",
    "         \"ALGERIA\",\n",
    "         \"ANGOLA\",\n",
    "         \"ARMENIA\",\n",
    "         \"AZERBAIJAN\",\n",
    "         \"BAHAMAS\",\n",
    "         \"BAHARAIN IS\",\n",
    "         \"BANGLADESH PR\",\n",
    "         \"BENIN\",\n",
    "         \"BHUTAN\",\n",
    "         \"BOTSWANA\",\n",
    "         \"BRAZIL\"]\n",
    "\n",
    "# diccionario con la capacidad de demanda de cada bar\n",
    "demanda = {\"AFGHANISTAN TIS\": 1,\n",
    "             \"ALGERIA\": 50,\n",
    "             \"ANGOLA\":27,\n",
    "             \"ARMENIA\": 3,\n",
    "             \"AZERBAIJAN\": 1,\n",
    "             \"BAHAMAS\":0,\n",
    "             \"BAHARAIN IS\":25,\n",
    "             \"BANGLADESH PR\":10,\n",
    "             \"BENIN\":1,\n",
    "             \"BHUTAN\":6,\n",
    "             \"BOTSWANA\":0,\n",
    "             \"BRAZIL\":0}\n",
    "\n",
    "# Lista con los costos de transporte de cada nodo\n",
    "costos = [[50,40,50, 100, 500, 200, 800, 700,600, 550, 900, 10]]\n",
    "# Convertimos los costos en un diccionario de PuLP\n",
    "costos = pulp.makeDict([cervecerias, bares], costos,0)\n",
    "\n",
    "# Creamos una lista de tuplas que contiene todas las posibles rutas de tranporte.\n",
    "rutas = [(c,b) for c in cervecerias for b in bares]\n"
   ]
  },
  {
   "cell_type": "code",
   "execution_count": 48,
   "metadata": {},
   "outputs": [
    {
     "name": "stdout",
     "output_type": "stream",
     "text": [
      "Status: Optimal\n",
      "ruta_Producto_2_AFGHANISTAN_TIS = 1.0\n",
      "ruta_Producto_2_ALGERIA = 50.0\n",
      "ruta_Producto_2_ANGOLA = 27.0\n",
      "ruta_Producto_2_ARMENIA = 3.0\n",
      "ruta_Producto_2_AZERBAIJAN = 1.0\n",
      "ruta_Producto_2_BAHAMAS = 0.0\n",
      "ruta_Producto_2_BAHARAIN_IS = 25.0\n",
      "ruta_Producto_2_BANGLADESH_PR = 10.0\n",
      "ruta_Producto_2_BENIN = 1.0\n",
      "ruta_Producto_2_BHUTAN = 6.0\n",
      "ruta_Producto_2_BOTSWANA = 0.0\n",
      "ruta_Producto_2_BRAZIL = 0.0\n",
      "Costo total de transporte = 35100.0\n"
     ]
    }
   ],
   "source": [
    "\n",
    "# creamos diccionario x que contendrá la candidad enviada en las rutas\n",
    "x = pulp.LpVariable.dicts(\"ruta\", (cervecerias, bares), \n",
    "                        lowBound = 0,\n",
    "                        cat = pulp.LpInteger)\n",
    "\n",
    "# Agregamos la función objetivo al problema\n",
    "prob += sum([x[c][b]*costos[c][b] for (c,b) in rutas]), \\\n",
    "            \"Suma_de_costos_de_transporte\"\n",
    "\n",
    "# Agregamos la restricción de máxima oferta de cada cervecería al problema.\n",
    "for c in cervecerias:\n",
    "    prob += sum([x[c][b] for b in bares]) <= oferta[c], \\\n",
    "            \"Suma_de_Productos_que_salen_de_cervecerias_%s\"%c\n",
    "\n",
    "# Agregamos la restricción de demanda mínima de cada bar\n",
    "for b in bares:\n",
    "    prob += sum([x[c][b] for c in cervecerias]) >= demanda[b], \\\n",
    "    \"Sum_of_Products_into_Bar%s\"%b\n",
    "                   \n",
    "# Los datos del problema son exportado a archivo .lp\n",
    "prob.writeLP(\"problemaDeTransporte.lp\")\n",
    "\n",
    "# Resolviendo el problema.\n",
    "prob.solve()\n",
    "\n",
    "# Imprimimos el estado del problema.\n",
    "print(\"Status: {}\".format(pulp.LpStatus[prob.status]))\n",
    "\n",
    "# Imprimimos cada variable con su solución óptima.\n",
    "for v in prob.variables():\n",
    "    print(\"{0:} = {1:}\".format(v.name, v.varValue))\n",
    "\n",
    "# Imprimimos el valor óptimo de la función objetivo   \n",
    "print(\"Costo total de transporte = {}\".format(prob.objective.value()))"
   ]
  },
  {
   "cell_type": "markdown",
   "metadata": {},
   "source": [
    "[1] URL:  https://www.kaggle.com/lakshyaag/india-trade-data"
   ]
  },
  {
   "cell_type": "code",
   "execution_count": null,
   "metadata": {},
   "outputs": [],
   "source": []
  }
 ],
 "metadata": {
  "kernelspec": {
   "display_name": "Python 3",
   "language": "python",
   "name": "python3"
  },
  "language_info": {
   "codemirror_mode": {
    "name": "ipython",
    "version": 3
   },
   "file_extension": ".py",
   "mimetype": "text/x-python",
   "name": "python",
   "nbconvert_exporter": "python",
   "pygments_lexer": "ipython3",
   "version": "3.7.3"
  }
 },
 "nbformat": 4,
 "nbformat_minor": 2
}
