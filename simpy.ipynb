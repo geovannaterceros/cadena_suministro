{
 "cells": [
  {
   "cell_type": "code",
   "execution_count": 50,
   "metadata": {},
   "outputs": [
    {
     "name": "stdout",
     "output_type": "stream",
     "text": [
      "Requirement already satisfied: sympy in c:\\users\\ggil\\appdata\\local\\continuum\\anaconda3\\lib\\site-packages (1.4)\n",
      "Requirement already satisfied: mpmath>=0.19 in c:\\users\\ggil\\appdata\\local\\continuum\\anaconda3\\lib\\site-packages (from sympy) (1.1.0)\n",
      "Note: you may need to restart the kernel to use updated packages.\n"
     ]
    }
   ],
   "source": [
    "pip install sympy"
   ]
  },
  {
   "cell_type": "markdown",
   "metadata": {},
   "source": [
    "## Simpy es un simulador de procesos"
   ]
  },
  {
   "cell_type": "markdown",
   "metadata": {},
   "source": [
    "Se ha realizado sobre la atencion a cliente [1]"
   ]
  },
  {
   "cell_type": "code",
   "execution_count": 1,
   "metadata": {},
   "outputs": [],
   "source": [
    "import simpy as sp\n",
    "import random\n",
    "import math"
   ]
  },
  {
   "cell_type": "code",
   "execution_count": 46,
   "metadata": {},
   "outputs": [],
   "source": [
    "SEMILLA = 30\n",
    "NUM_CAJERO = 1\n",
    "TIEMPO_CORTE_MIN = 15\n",
    "TIEMPO_CORTE_MAX = 30\n",
    "T_LLEGADAS = 20\n",
    "TIEMPO_SIMULACION = 120\n",
    "TOT_CLIENTES = 5\n",
    "\n",
    "te  = 0.0 # tiempo de espera total\n",
    "dt  = 0.0 # duracion de servicio total\n",
    "fin = 0.0 # minuto en el que finaliza"
   ]
  },
  {
   "cell_type": "code",
   "execution_count": 47,
   "metadata": {},
   "outputs": [],
   "source": [
    "def atender(cliente):\n",
    "    global dt  #Para poder acceder a la variable dt declarada anteriormente\n",
    "    R = random.random()  # Obtiene un numero aleatorio y lo guarda en R\n",
    "    tiempo = TIEMPO_CORTE_MAX - TIEMPO_CORTE_MIN  \n",
    "    tiempo_atencion = TIEMPO_CORTE_MIN + (tiempo*R) # Distribucion uniforme\n",
    "    yield env.timeout(tiempo_atencion) # deja correr el tiempo n minutos\n",
    "    print(\" \\o/ Se ha atendido a %s en %.2f minutos\" % (cliente,tiempo_atencion))\n",
    "    dt = dt + tiempo_atencion # Acumula los tiempos de uso de la i\n",
    "\n",
    "\n",
    "def cliente (env, name, personal ):\n",
    "    global te\n",
    "    global fin\n",
    "    llega = env.now # Guarda el minuto de llegada del cliente\n",
    "    print (\"---> %s llego banco en minuto %.2f\" % (name, llega))\n",
    "    with personal.request() as request: # Espera su turno\n",
    "        yield request # Obtiene turno\n",
    "        pasa = env.now # Guarda el minuto cuado comienza a ser atendido\n",
    "        espera = pasa - llega # Calcula el tiempo que espero\n",
    "        te = te + espera # Acumula los tiempos de espera\n",
    "        print (\"**** %s pasa con el cajero en minuto %.2f habiendo esperado %.2f\" % (name, pasa, espera))\n",
    "        yield env.process(atender(name)) # Invoca al proceso atender\n",
    "        deja = env.now #Guarda el minuto en que termina el proceso atender\n",
    "        print (\"<--- %s deja el banco en minuto %.2f\" % (name, deja))\n",
    "        fin = deja # Conserva globalmente el ultimo minuto de la simulacion\n",
    "    \n",
    "def principal (env, personal):\n",
    "    llegada = 0\n",
    "    i = 0\n",
    "    for i in range(TOT_CLIENTES): # Para n clientes\n",
    "        R = random.random()\n",
    "        llegada = -T_LLEGADAS * math.log(R) # Distribucion exponencial\n",
    "        yield env.timeout(llegada)  # Deja transcurrir un tiempo entre uno y otro\n",
    "        i += 1\n",
    "        env.process(cliente(env, 'Cliente %d' % i, personal)) \n"
   ]
  },
  {
   "cell_type": "code",
   "execution_count": 48,
   "metadata": {},
   "outputs": [
    {
     "name": "stdout",
     "output_type": "stream",
     "text": [
      "------------------- Bienvenido Simulacion Peluqueria ------------------\n",
      "---> Cliente 1 llego banco en minuto 12.36\n",
      "**** Cliente 1 pasa con el cajero en minuto 12.36 habiendo esperado 0.00\n",
      " \\o/ Se ha atendido a Cliente 1 en 15.45 minutos\n",
      "<--- Cliente 1 deja el banco en minuto 27.81\n",
      "---> Cliente 2 llego banco en minuto 37.17\n",
      "**** Cliente 2 pasa con el cajero en minuto 37.17 habiendo esperado 0.00\n",
      "---> Cliente 3 llego banco en minuto 45.67\n",
      " \\o/ Se ha atendido a Cliente 2 en 18.15 minutos\n",
      "<--- Cliente 2 deja el banco en minuto 55.32\n",
      "**** Cliente 3 pasa con el cajero en minuto 55.32 habiendo esperado 9.65\n",
      "---> Cliente 4 llego banco en minuto 72.83\n",
      " \\o/ Se ha atendido a Cliente 3 en 20.96 minutos\n",
      "<--- Cliente 3 deja el banco en minuto 76.28\n",
      "**** Cliente 4 pasa con el cajero en minuto 76.28 habiendo esperado 3.45\n",
      "---> Cliente 5 llego banco en minuto 81.70\n",
      " \\o/ Se ha atendido a Cliente 4 en 29.83 minutos\n",
      "<--- Cliente 4 deja el banco en minuto 106.11\n",
      "**** Cliente 5 pasa con el cajero en minuto 106.11 habiendo esperado 24.41\n",
      " \\o/ Se ha atendido a Cliente 5 en 21.92 minutos\n",
      "<--- Cliente 5 deja el banco en minuto 128.03\n"
     ]
    }
   ],
   "source": [
    "print (\"------------------- Bienvenido Simulacion Peluqueria ------------------\")\n",
    "random.seed (SEMILLA)  # Cualquier valor\n",
    "env = sp.Environment() # Crea el objeto entorno de simulacion\n",
    "personal = sp.Resource(env, NUM_PELUQUEROS) #Crea los recursos (peluqueros)\n",
    "env.process(principal(env, personal)) #Invoca el proceso princial\n",
    "env.run() #Inicia la simulacion"
   ]
  },
  {
   "cell_type": "markdown",
   "metadata": {},
   "source": [
    "Conclusion: se puede observar que a partir del tercer cliente existe un tiempo de espero"
   ]
  },
  {
   "cell_type": "markdown",
   "metadata": {},
   "source": [
    "[1]URL: https://naps.com.mx/blog/simulacion-en-python-usando-simpy/"
   ]
  },
  {
   "cell_type": "code",
   "execution_count": null,
   "metadata": {},
   "outputs": [],
   "source": []
  }
 ],
 "metadata": {
  "kernelspec": {
   "display_name": "Python 3",
   "language": "python",
   "name": "python3"
  },
  "language_info": {
   "codemirror_mode": {
    "name": "ipython",
    "version": 3
   },
   "file_extension": ".py",
   "mimetype": "text/x-python",
   "name": "python",
   "nbconvert_exporter": "python",
   "pygments_lexer": "ipython3",
   "version": "3.7.3"
  }
 },
 "nbformat": 4,
 "nbformat_minor": 2
}
